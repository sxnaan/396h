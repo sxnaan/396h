{
 "cells": [
  {
   "cell_type": "code",
   "execution_count": 1,
   "metadata": {},
   "outputs": [],
   "source": [
    "# step 1: build \n",
    "from bs4 import BeautifulSoup as bs\n",
    "import requests\n",
    "import pandas as pd\n",
    "import numpy as np\n",
    "import matplotlib.pyplot as plt\n",
    "\n",
    "doge_df = pd.read_csv('doge-2021.csv')\n",
    "metrics = doge_df.columns[1:5]\n"
   ]
  },
  {
   "cell_type": "code",
   "execution_count": 2,
   "metadata": {},
   "outputs": [
    {
     "data": {
      "image/png": "[encoded data removed]",
      "text/plain": [
       "<Figure size 432x288 with 1 Axes>"
      ]
     },
     "metadata": {
      "needs_background": "light"
     },
     "output_type": "display_data"
    }
   ],
   "source": [
    "# lets graph this year's doge data over time\n",
    "\n",
    "fig, ax = plt.subplots()\n",
    "title = '$DOGE 2021 Price Movement'\n",
    "for metric in metrics:\n",
    "    ax = doge_df.plot(ax=ax, kind='line', x='Date', y=metric, legend='True', title=title)\n"
   ]
  },
  {
   "cell_type": "code",
   "execution_count": 3,
   "metadata": {},
   "outputs": [],
   "source": [
    "# build dataset -- query tweets about DOGE from this year\n",
    "\n",
    "# !pip install tweepy\n",
    "import tweepy\n",
    "import re\n",
    "import math\n",
    "\n",
    "consumer_key = 'dB3HhR7wYYGvRv96vr2D7nkVP'\n",
    "consumer_secret = 'bnZwA5qDzb5S2ryb3z1Kc7HPQhooO3TVhDqp6KjacM8v98LygP'\n",
    "\n",
    "access_token = '3395702405-imuAgWIHc5hTzHhJg4q3u19TibCK29ucR1mwD1q'\n",
    "access_token_secret = 'UcCtMNRGhmLlmJFz6lWlaVeshaGClx0cmDBYJE8UdDMsB'\n",
    "\n",
    "auth = tweepy.OAuthHandler(consumer_key, consumer_secret)\n",
    "auth.set_access_token(access_token, access_token_secret)\n",
    "\n",
    "api = tweepy.API(auth)\n",
    "\n",
    "doge_query = []#api.search_full_archive(environment_name='dev', query='DOGE', fromDate='202101010000', maxResults=100)\n",
    "\n",
    "#for tweet in doge_query:\n",
    "    #print(tweet.text)"
   ]
  },
  {
   "cell_type": "code",
   "execution_count": 4,
   "metadata": {},
   "outputs": [],
   "source": [
    "from datetime import datetime\n",
    "import snscrape.modules.twitter as sntwitter\n",
    "\n",
    "months = [31,28,31,30,31,30,31,31,30,31,30,31]\n",
    "\n",
    "def sub_days(start,days):\n",
    "    month = int(start[5:7])\n",
    "    day = int(start[8:10])\n",
    "    s = 0\n",
    "    for i in range(0,month-1):\n",
    "        s = s + months[i]\n",
    "    \n",
    "    s = s + day - days\n",
    "\n",
    "    m = 0\n",
    "    while s>0:\n",
    "        s = s - months[m]\n",
    "        m = m+1\n",
    "        \n",
    "    s = months[m-1] + s\n",
    "    \n",
    "    \n",
    "    if(m<10):\n",
    "        m = '0'+str(m)\n",
    "    else:\n",
    "        m = str(m)\n",
    "        \n",
    "    if(s<10):\n",
    "        s = '0'+str(s)\n",
    "    else:\n",
    "        s = str(s)   \n",
    "    \n",
    "        \n",
    "    return str(start[0:5]+m+'-'+s)\n",
    "\n",
    "\n",
    "# Using TwitterSearchScraper to scrape data and append tweets to list\n",
    "# Note: D = # of days past to be scraping from\n",
    "# Note: I = # of tweets to scrape from each day\n",
    "# Note: inc = number of days by which to increment\n",
    "now = datetime.today().strftime('%Y-%m-%d')\n",
    "D = 100\n",
    "I = 100\n",
    "inc = 1\n",
    "\n",
    "count = 0\n",
    "while count <= D:\n",
    "    count = count + inc\n",
    "    curr = sub_days(now,count)\n",
    "    prev = sub_days(now,count+inc)\n",
    "\n",
    "    for i,tweet in enumerate(sntwitter.TwitterSearchScraper('DOGE since:'+prev+' until:'+curr).get_items()):\n",
    "        if i>I:\n",
    "            break\n",
    "            \n",
    "        doge_query.append(tweet)\n",
    "\n",
    "    \n",
    "#for tweet in doge_query:\n",
    "    #print(tweet.content)"
   ]
  },
  {
   "cell_type": "code",
   "execution_count": 5,
   "metadata": {},
   "outputs": [
    {
     "name": "stdout",
     "output_type": "stream",
     "text": [
      "{'2021-05-16': 98, '2021-05-15': 105, '2021-05-14': 73, '2021-05-13': 53, '2021-05-12': 24, '2021-05-11': 34, '2021-05-10': 24, '2021-05-09': 64, '2021-05-08': 38, '2021-05-07': 42, '2021-05-06': 42, '2021-05-05': 82, '2021-05-04': 36, '2021-05-03': 23, '2021-05-02': 119, '2021-05-01': 20, '2021-04-30': 23, '2021-04-29': 90, '2021-04-28': 87, '2021-04-27': 101, '2021-04-26': 69, '2021-04-25': 21, '2021-04-24': 88, '2021-04-23': 81, '2021-04-22': 28, '2021-04-21': 60, '2021-04-20': 24, '2021-04-19': 90, '2021-04-18': -17, '2021-04-17': 73, '2021-04-16': 16, '2021-04-15': 134, '2021-04-14': 58, '2021-04-13': 94, '2021-04-12': 116, '2021-04-11': 68, '2021-04-10': 47, '2021-04-09': -86, '2021-04-08': 75, '2021-04-07': 60, '2021-04-06': 45, '2021-04-05': -192, '2021-04-04': 86, '2021-04-03': 155, '2021-04-02': 69, '2021-04-01': 79, '2021-03-31': 82, '2021-03-30': 86, '2021-03-29': 128, '2021-03-28': 7, '2021-03-27': 18, '2021-03-26': 61, '2021-03-25': 12, '2021-03-24': 15, '2021-03-23': -14, '2021-03-22': 156, '2021-03-21': 90, '2021-03-20': 303, '2021-03-19': 124, '2021-03-18': 67, '2021-03-17': 113, '2021-03-16': 98, '2021-03-15': 134, '2021-03-14': 120, '2021-03-13': 57, '2021-03-12': -49, '2021-03-11': 107, '2021-03-10': 153, '2021-03-09': 157, '2021-03-08': 101, '2021-03-07': 94, '2021-03-06': 140, '2021-03-05': 105, '2021-03-04': 103, '2021-03-03': 103, '2021-03-02': 91, '2021-03-01': 173, '2021-02-28': 130, '2021-02-27': 71, '2021-02-26': -27, '2021-02-25': 55, '2021-02-24': 132, '2021-02-23': 65, '2021-02-22': 20, '2021-02-21': 125, '2021-02-20': 70, '2021-02-19': 148, '2021-02-18': 74, '2021-02-17': -15, '2021-02-16': 97, '2021-02-15': 37, '2021-02-14': 17, '2021-02-13': -12, '2021-02-12': 96, '2021-02-11': 32, '2021-02-10': 116, '2021-02-09': 137, '2021-02-08': -12, '2021-02-07': 37, '2021-02-06': 53, '2021-02-05': 171}\n"
     ]
    }
   ],
   "source": [
    "# sentiment analysis \n",
    "\n",
    "# iterate through tweets, for each tweet give it a sentiment (negative or positive).\n",
    "# if its hard to determine, just skip the tweet\n",
    "\n",
    "def set_senti():\n",
    "    d = {}\n",
    "    \n",
    "    pos = open(\"goods.txt\",\"r\")\n",
    "    while True:\n",
    "        word = pos.readline()\n",
    "        if not word:\n",
    "            break\n",
    "        else:\n",
    "            d[word.rstrip()] = 1\n",
    "    pos.close()\n",
    "\n",
    "    neg = open(\"bads.txt\",\"r\")\n",
    "    while True:\n",
    "        word = neg.readline()\n",
    "        if not word:\n",
    "            break\n",
    "        else:\n",
    "            d[word.rstrip()] = -1\n",
    "    neg.close()\n",
    "    \n",
    "    return d\n",
    "\n",
    "senti_array = set_senti()\n",
    "\n",
    "def compute_senti(tweet):\n",
    "    score = 0\n",
    "    tweet = tweet.content\n",
    "    \n",
    "    for word in tweet.split(\" \"):\n",
    "        word.lower()\n",
    "        if re.match(\"#\",word):\n",
    "            word = word[1:]\n",
    "            \n",
    "        if re.search(\"[\\.|!|,]$\",word):\n",
    "            word = word[:-1]\n",
    "\n",
    "        if (word in senti_array):\n",
    "            score += senti_array[word]\n",
    "            \n",
    "    if score != 0:\n",
    "        return int(abs(score)/score)\n",
    "    else:\n",
    "        return 0\n",
    "\n",
    "\n",
    "def compute_infl(tweet):\n",
    "    # influence ranges from 0 - infinity\n",
    "    return int(math.log(tweet.user.followersCount * ((tweet.retweetCount+1)**2) + 1))\n",
    "\n",
    "# build an array that maps tweets to sentiments in (tweet,sentiment_weight) form\n",
    "tweets = []\n",
    "date_weight = {}\n",
    "\n",
    "for tweet in doge_query:\n",
    "    sentiment = compute_senti(tweet)    # either -1 (negative) or 1 (positive)\n",
    "    influence = compute_infl(tweet)\n",
    "    w_sentiment = sentiment * influence\n",
    "    \n",
    "    tweets.append((tweet,w_sentiment))\n",
    "    \n",
    "    date = str(tweet.date)[0:10]\n",
    "    if(date in date_weight):\n",
    "        date_weight[date] = date_weight[date] + w_sentiment\n",
    "    else:\n",
    "        date_weight[date] = w_sentiment\n",
    "        \n",
    "print(date_weight)\n",
    "    \n",
    "# iterate through days, for each day compute the sum of w_sentiments (if its negative, more people had negative things to say, if its positive, people had good things to say)\n",
    "\n",
    "# this is just a skeleton, day and days are both undefined rn\n",
    "# for day in days:\n",
    "  #  daily_sentiment = sum(w_sentiment) \n",
    "\n",
    "# plot daily sentiment over time, compare it to doge data\n"
   ]
  },
  {
   "cell_type": "code",
   "execution_count": 6,
   "metadata": {},
   "outputs": [
    {
     "data": {
      "image/png": "[encoded data removed]",
      "text/plain": [
       "<Figure size 432x288 with 1 Axes>"
      ]
     },
     "metadata": {
      "needs_background": "light"
     },
     "output_type": "display_data"
    }
   ],
   "source": [
    "weight_data = {'Date':[],'Weight':[]}\n",
    "for k in date_weight:\n",
    "    weight_data['Date'].insert(0,k)\n",
    "    weight_data['Weight'].insert(0,date_weight[k])\n",
    "    \n",
    "senti_df = pd.DataFrame.from_dict(weight_data)\n",
    "fig, ax = plt.subplots()\n",
    "ax = senti_df.plot(ax=ax, kind='line', x='Date', y='Weight', title='Weight vs Time')"
   ]
  },
  {
   "cell_type": "code",
   "execution_count": 34,
   "metadata": {
    "tags": []
   },
   "outputs": [
    {
     "name": "stdout",
     "output_type": "stream",
     "text": [
      "       Open     Close\n",
      "0   0.15297 -0.037252\n",
      "1   0.13541  0.000665\n",
      "2  0.137768 -0.029116\n",
      "3  0.180238 -0.033917\n",
      "4  0.180979 -0.042043\n",
      "5  0.186838 -0.037935\n",
      "6  0.191936 -0.042224\n",
      "7   0.19384 -0.043981\n"
     ]
    }
   ],
   "source": [
    "#print(senti_df['Weight'][:-2])\n",
    "#print(doge_df['Open'][35:])\n",
    "cols = ['Open', 'Close']\n",
    "\n",
    "offset_corr = pd.DataFrame(index = range(8),columns = cols)\n",
    "\n",
    "for offset in range(8):\n",
    "    #print(\"Offset is \" + str(offset))\n",
    "    senti_pct_df = senti_df['Weight'][:-2 - offset].pct_change()\n",
    "    for col in cols:\n",
    "        doge_pct_df = doge_df[col][35 + offset:].pct_change()\n",
    "        #plt.scatter(senti_pct_df, doge_pct_df)\n",
    "        #plt.show()\n",
    "        correlation = senti_pct_df.corr(doge_pct_df)\n",
    "        offset_corr[col][offset] = correlation\n",
    "        #print(\"Correlation with \"+col+\" is \" + str(correlation))\n",
    "        \n",
    "print(offset_corr)\n"
   ]
  },
  {
   "cell_type": "markdown",
   "metadata": {},
   "source": [
    "A Pearson's correlation coefficient of between $\\pm 0.26$ is considered small correlation."
   ]
  },
  {
   "cell_type": "code",
   "execution_count": null,
   "metadata": {},
   "outputs": [],
   "source": []
  }
 ],
 "metadata": {
  "kernelspec": {
   "display_name": "Python 3",
   "language": "python",
   "name": "python3"
  },
  "language_info": {
   "codemirror_mode": {
    "name": "ipython",
    "version": 3
   },
   "file_extension": ".py",
   "mimetype": "text/x-python",
   "name": "python",
   "nbconvert_exporter": "python",
   "pygments_lexer": "ipython3",
   "version": "3.8.10"
  },
  "metadata": {
   "interpreter": {
    "hash": "ac2eaa0ea0ebeafcc7822e65e46aa9d4f966f30b695406963e145ea4a91cd4fc"
   }
  }
 },
 "nbformat": 4,
 "nbformat_minor": 4
}
